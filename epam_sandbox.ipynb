{
 "cells": [
  {
   "cell_type": "code",
   "execution_count": 1,
   "id": "29fecffb",
   "metadata": {},
   "outputs": [],
   "source": [
    "import numpy as np\n",
    "import random"
   ]
  },
  {
   "cell_type": "code",
   "execution_count": 1,
   "id": "55c0a92c",
   "metadata": {},
   "outputs": [
    {
     "data": {
      "text/plain": [
       "2868"
      ]
     },
     "execution_count": 1,
     "metadata": {},
     "output_type": "execute_result"
    }
   ],
   "source": [
    "# convert numbers to hexadecimal\n",
    "45891 // 16"
   ]
  },
  {
   "cell_type": "code",
   "execution_count": 2,
   "id": "f4f918ff",
   "metadata": {},
   "outputs": [
    {
     "data": {
      "text/plain": [
       "3"
      ]
     },
     "execution_count": 2,
     "metadata": {},
     "output_type": "execute_result"
    }
   ],
   "source": [
    "45891 % 16"
   ]
  },
  {
   "cell_type": "code",
   "execution_count": 3,
   "id": "12f88441",
   "metadata": {},
   "outputs": [
    {
     "data": {
      "text/plain": [
       "179"
      ]
     },
     "execution_count": 3,
     "metadata": {},
     "output_type": "execute_result"
    }
   ],
   "source": [
    "2868 // 16"
   ]
  },
  {
   "cell_type": "code",
   "execution_count": 4,
   "id": "f30f77fb",
   "metadata": {},
   "outputs": [
    {
     "data": {
      "text/plain": [
       "4"
      ]
     },
     "execution_count": 4,
     "metadata": {},
     "output_type": "execute_result"
    }
   ],
   "source": [
    "2868 % 16"
   ]
  },
  {
   "cell_type": "code",
   "execution_count": 5,
   "id": "6c39b009",
   "metadata": {},
   "outputs": [
    {
     "data": {
      "text/plain": [
       "11"
      ]
     },
     "execution_count": 5,
     "metadata": {},
     "output_type": "execute_result"
    }
   ],
   "source": [
    "179 // 16"
   ]
  },
  {
   "cell_type": "code",
   "execution_count": 6,
   "id": "a4026c2e",
   "metadata": {},
   "outputs": [
    {
     "data": {
      "text/plain": [
       "3"
      ]
     },
     "execution_count": 6,
     "metadata": {},
     "output_type": "execute_result"
    }
   ],
   "source": [
    "179 % 16"
   ]
  },
  {
   "cell_type": "code",
   "execution_count": 7,
   "id": "9204e890",
   "metadata": {},
   "outputs": [
    {
     "data": {
      "text/plain": [
       "0"
      ]
     },
     "execution_count": 7,
     "metadata": {},
     "output_type": "execute_result"
    }
   ],
   "source": [
    "11 // 16"
   ]
  },
  {
   "cell_type": "code",
   "execution_count": 8,
   "id": "29a58ab1",
   "metadata": {},
   "outputs": [
    {
     "data": {
      "text/plain": [
       "63251"
      ]
     },
     "execution_count": 8,
     "metadata": {},
     "output_type": "execute_result"
    }
   ],
   "source": [
    "# 0xF713 to decimal\n",
    "15*16**3 + 7*16**2 + 1*16**1 + 3*16**0"
   ]
  },
  {
   "cell_type": "code",
   "execution_count": 24,
   "id": "9e279077",
   "metadata": {},
   "outputs": [
    {
     "name": "stdout",
     "output_type": "stream",
     "text": [
      "needed bits to store the number 63425658:  26.0\n",
      "needed bytes to store the number 63425658:  4.0\n"
     ]
    }
   ],
   "source": [
    "# How many bytes are needed to store the number 63425658?\n",
    "# 256**3\n",
    "# finding needed bits\n",
    "print('needed bits to store the number 63425658: ', np.log2(63425658)//1 + 1) # round down plus one\n",
    "print('needed bytes to store the number 63425658: ', ((np.log2(63425658)//1 + 1) / 8)//1 + 1)"
   ]
  },
  {
   "cell_type": "markdown",
   "id": "ce5be3eb",
   "metadata": {},
   "source": [
    "### Loop Control Statements\n",
    "#### Task 1\n",
    "Based on the year of birth that you have entered, display the name of the corresponding animal according to the Chinese horoscope. The name of the animal is chosen depending on the remainder of dividing the year by 12 according to the following scheme:\n",
    "\n",
    "0 - Monkey  \n",
    "1 - Rooster  \n",
    "2 - Dog  \n",
    "3 - Pig  \n",
    "4 - Rat  \n",
    "5 - Ox  \n",
    "6 - Tiger  \n",
    "7 - Rabbit  \n",
    "8 - Dragon  \n",
    "9 - Snake  \n",
    "10 - Horse  \n",
    "11 - Goat  "
   ]
  },
  {
   "cell_type": "code",
   "execution_count": 25,
   "id": "5bea50b0",
   "metadata": {},
   "outputs": [
    {
     "name": "stdout",
     "output_type": "stream",
     "text": [
      "Please, enter a year: 2024\n",
      "In Chinese horoscope the 2024 is the Dragon year\n"
     ]
    }
   ],
   "source": [
    "year = int(input(\"Please, enter a year: \"))\n",
    "animal_dict = {0: 'Monkey', \n",
    "            1 : 'Rooster',\n",
    "            2 : 'Dog',\n",
    "            3 : 'Pig',\n",
    "            4 : 'Rat',\n",
    "            5 : 'Ox',\n",
    "            6 : 'Tiger',\n",
    "            7 : 'Rabbit',\n",
    "            8 : 'Dragon',\n",
    "            9 : 'Snake',\n",
    "            10 : 'Horse',\n",
    "            11 : 'Goat' }\n",
    "for key in animal_dict:\n",
    "    if year % 12 == key:\n",
    "        print(\"In Chinese horoscope the\", year, \"is the\", animal_dict[key], \"year\")"
   ]
  },
  {
   "cell_type": "markdown",
   "id": "d31c32d1",
   "metadata": {},
   "source": [
    "#### Task 2\n",
    "A car drove N miles in 0.5 hours. Did the driver violate the traffic rules if the speed limit was 45 mph?"
   ]
  },
  {
   "cell_type": "code",
   "execution_count": 32,
   "id": "58eb41e0",
   "metadata": {},
   "outputs": [
    {
     "name": "stdout",
     "output_type": "stream",
     "text": [
      "Enter the number of miles: 50\n",
      "The driver violated the rules!\n"
     ]
    }
   ],
   "source": [
    "time = 0.5\n",
    "speed_lim = 45\n",
    "\n",
    "miles = float(input(\"Enter the number of miles: \"))\n",
    "\n",
    "speed_act = miles / time\n",
    "\n",
    "if speed_act > speed_lim:\n",
    "    print(\"The driver violated the rules!\")\n",
    "else:\n",
    "    print(\"All right!\")"
   ]
  },
  {
   "cell_type": "markdown",
   "id": "3eb9fdda",
   "metadata": {},
   "source": [
    "#### Task 3\n",
    "Calculate the total amount you will pay if the purchase costs N and the following discounts are provided: if the purchase costs less than 100 – a 5% discount, if the purchase costs from 100 to 200 – a 10% discount, and, finally, if the purchase costs 200 and more – a 15% discount."
   ]
  },
  {
   "cell_type": "code",
   "execution_count": 39,
   "id": "a14dd5f7",
   "metadata": {},
   "outputs": [
    {
     "name": "stdout",
     "output_type": "stream",
     "text": [
      "Final price is: 139.5 dollars\n"
     ]
    }
   ],
   "source": [
    "purchase = 155\n",
    "if purchase < 100:\n",
    "    discount = 1-0.05\n",
    "    print(\"Final price is:\", purchase*discount, \"dollars\")\n",
    "elif 100 <= purchase < 200:\n",
    "    discount = 1-0.1\n",
    "    print(\"Final price is:\", purchase*discount, \"dollars\")\n",
    "else:\n",
    "    discount = 1-0.15\n",
    "    print(\"Final price is:\", purchase*discount, \"dollars\")"
   ]
  },
  {
   "cell_type": "markdown",
   "id": "86531dd8",
   "metadata": {},
   "source": [
    "# ALGORITHMS"
   ]
  },
  {
   "cell_type": "code",
   "execution_count": 59,
   "id": "2561fae8",
   "metadata": {},
   "outputs": [
    {
     "name": "stdout",
     "output_type": "stream",
     "text": [
      "20\n"
     ]
    }
   ],
   "source": [
    "# Calculate the sum of digits of the input number\n",
    "\n",
    "number = int(input('Enter '))\n",
    "sum = 0\n",
    "\n",
    "while number > 0:\n",
    "    sum += number % 10\n",
    "    number //= 10\n",
    "    \n",
    "print(sum)"
   ]
  },
  {
   "cell_type": "markdown",
   "id": "6738874c",
   "metadata": {},
   "source": [
    "Draw a flowchart for entering some set of integers (an array) and finding the minimum value among the elements that are multiples of seven and are located to the right of the first even element.  \n",
    "(Нарисуйте блок-схему ввода некоторого набора целых чисел (массива) и нахождения минимального значения среди элементов, кратных семи и расположенных справа от первого четного элемента)"
   ]
  },
  {
   "cell_type": "markdown",
   "id": "859971fc",
   "metadata": {},
   "source": [
    "1) start\n",
    "2) enter the size of the array\n",
    "3) if the size of the array <= 0, then finish, else:\n",
    "4) enter array elements\n",
    "5) if the element is not int, then error, else: \n",
    "6) start a cycle from 1 to len(array): \n",
    "7) check the elements. If the element % 7 == 0: add it to the new array\n",
    "8) if there's no elements that are multiple of 7, then finish, else:\n",
    "9) find min() of the new array\n",
    "10) end"
   ]
  },
  {
   "cell_type": "code",
   "execution_count": 24,
   "id": "6d568c82",
   "metadata": {},
   "outputs": [
    {
     "name": "stdout",
     "output_type": "stream",
     "text": [
      "Enter the size of the array: 10\n",
      "Enter array elements: 9 3 2 0 25 21 88 11 3 7\n",
      "[9, 3, 2, 0, 25, 21, 88, 11, 3, 7]\n"
     ]
    }
   ],
   "source": [
    "n = int(input(\"Enter the size of the array: \"))\n",
    "ar = list(map(int, input(\"Enter array elements: \").strip().split()))\n",
    "print(ar)"
   ]
  },
  {
   "cell_type": "code",
   "execution_count": 28,
   "id": "c4d271d7",
   "metadata": {},
   "outputs": [
    {
     "name": "stdout",
     "output_type": "stream",
     "text": [
      "[21, 7]\n",
      "The minimum is:  7\n"
     ]
    }
   ],
   "source": [
    "n_ar = []\n",
    "for i in range(len(ar)):\n",
    "    if ar[i] % 2 == 0:\n",
    "        for i in range(i+1, len(ar)):\n",
    "            if (ar[i] % 7 == 0) and (ar[i] != 0):\n",
    "                n_ar.append(ar[i])\n",
    "        if len(n_ar) == 0:\n",
    "            print('There are no elements that are multiples of 7')\n",
    "        print(n_ar)\n",
    "        print('The minimum is: ', min(n_ar))\n",
    "        break"
   ]
  },
  {
   "cell_type": "code",
   "execution_count": 19,
   "id": "612b29db",
   "metadata": {},
   "outputs": [
    {
     "name": "stdout",
     "output_type": "stream",
     "text": [
      "Enter the size of the array: 4\n",
      "Enter a new element: 1\n",
      "Enter a new element: 2\n",
      "Enter a new element: 7\n",
      "Enter a new element: 8\n",
      "[1, 2, 7, 8]\n"
     ]
    }
   ],
   "source": [
    "n = int(input(\"Enter the size of the array: \"))\n",
    "l = []\n",
    "for i in range(0, n):\n",
    "    el = int(input(\"Enter a new element: \"))\n",
    "    l.append(el)\n",
    "print(l)"
   ]
  },
  {
   "cell_type": "markdown",
   "id": "98d93229",
   "metadata": {},
   "source": [
    "# Recursion"
   ]
  },
  {
   "cell_type": "markdown",
   "id": "e3e8101f",
   "metadata": {},
   "source": [
    "#### Task\n",
    "There are 3 teams that take part in the darts competition. Each team comprises 4 participants. Each participant has 3 attempts. The number of points that each participant gets for one throw is entered from a keyboard. The maximum number of points for 1 attempt is 60. Display the winner (i.e. the number of the participant with the biggest number of points and his/her result) from each team. The participant of which team showed the best result?"
   ]
  },
  {
   "cell_type": "code",
   "execution_count": 127,
   "id": "d8873925",
   "metadata": {},
   "outputs": [
    {
     "name": "stdout",
     "output_type": "stream",
     "text": [
      "Team 1 :\n",
      "[87, 85, 77, 113]\n",
      "The winner in Team 1 is participant 4\n",
      "Team 2 :\n",
      "[69, 93, 106, 23]\n",
      "The winner in Team 2 is participant 3\n",
      "Team 3 :\n",
      "[61, 37, 90, 56]\n",
      "The winner in Team 3 is participant 3\n",
      "\n",
      "The best result was shown by player 4 of the team 1 with the score of 113\n"
     ]
    }
   ],
   "source": [
    "# without recursion\n",
    "teams = 3\n",
    "participants = 4\n",
    "attempts = 3\n",
    "winner = []\n",
    "team_winners = []\n",
    "for team in range(teams):\n",
    "    print(\"Team\", team+1, \":\")\n",
    "    team_points = []\n",
    "    for participant in range(participants):\n",
    "#         print(\"The participant\", participant+1, \":\")\n",
    "        sum_points = 0\n",
    "        for attempt in range(attempts):\n",
    "            # points += int(input(\"The participant's point's (1 to 60): \"))\n",
    "            points = random.randrange(1, 61)\n",
    "#             print(f\"{attempt+1}'st attempt:\", points)\n",
    "            sum_points += points\n",
    "        team_points.append(sum_points)\n",
    "    print(team_points)\n",
    "    team_winner = team_points.index(max(team_points))+1\n",
    "    team_winners.append(team_winner)\n",
    "    print(\"The winner in Team\", team+1, \"is participant\", team_points.index(max(team_points))+1)\n",
    "    winner.append(max(team_points))\n",
    "    \n",
    "# print(\"Team winners:\\n\", team_winners)\n",
    "# print(\"Winners in all teams:\")\n",
    "# print(winner)\n",
    "# print(\"The winner is from Team\", winner.index(max(winner))+1)\n",
    "print()\n",
    "print(\"The best result was shown by player\", team_winners[winner.index(max(winner))], \n",
    "      \"of the team\", winner.index(max(winner))+1, \n",
    "      \"with the score of\", max(winner))\n",
    "# The best result was shown by player 2 of the team 3 with the score of 150"
   ]
  },
  {
   "cell_type": "code",
   "execution_count": 130,
   "id": "b2a8e0e6",
   "metadata": {},
   "outputs": [
    {
     "name": "stdout",
     "output_type": "stream",
     "text": [
      "[6, 'this is list', 0.737, [12, 14, 6], 300, (0, 1, 3), {1: 'popcorn', 2: 'hot-dog', 3: 'chips'}]\n"
     ]
    }
   ],
   "source": [
    "l = [6, 'this is list', 0.737, [12, 14, 6], 300, (0, 1, 3, ), {1:\"popcorn\", 2:\"hot-dog\", 3:\"chips\"}]\n",
    "print(l)"
   ]
  },
  {
   "cell_type": "markdown",
   "id": "04160af6",
   "metadata": {},
   "source": [
    "# Lists. Stack. Queue. Binary tree"
   ]
  },
  {
   "cell_type": "markdown",
   "id": "83442368",
   "metadata": {},
   "source": [
    "#### Task\n",
    "Calculate the number of grades A, B, C, D, and F for the test in a class of 15 people."
   ]
  },
  {
   "cell_type": "code",
   "execution_count": 4,
   "id": "4ec91526",
   "metadata": {},
   "outputs": [
    {
     "name": "stdout",
     "output_type": "stream",
     "text": [
      "Enter the grade of student 1:B\n",
      "Enter the grade of student 2:C\n",
      "Enter the grade of student 3:A\n",
      "Enter the grade of student 4:D\n",
      "Enter the grade of student 5:D\n",
      "Enter the grade of student 6:B\n",
      "Enter the grade of student 7:C\n",
      "Enter the grade of student 8:F\n",
      "Enter the grade of student 9:A\n",
      "Enter the grade of student 10:C\n",
      "Enter the grade of student 11:B\n",
      "Enter the grade of student 12:B\n",
      "Enter the grade of student 13:A\n",
      "Enter the grade of student 14:F\n",
      "Enter the grade of student 15:C\n",
      "['B', 'C', 'A', 'D', 'D', 'B', 'C', 'F', 'A', 'C', 'B', 'B', 'A', 'F', 'C']\n"
     ]
    }
   ],
   "source": [
    "grades = []\n",
    "size = 15\n",
    "\n",
    "for i in range(1, size+1):\n",
    "    grade = input(f\"Enter the grade of student {i}:\")\n",
    "    grades.append(grade)"
   ]
  },
  {
   "cell_type": "code",
   "execution_count": 6,
   "id": "10cc22f1",
   "metadata": {},
   "outputs": [],
   "source": [
    "grades_count = {'A':0,'B':0,'C':0,'D':0,'F':0}"
   ]
  },
  {
   "cell_type": "code",
   "execution_count": 11,
   "id": "a72074f9",
   "metadata": {},
   "outputs": [],
   "source": [
    "grades_count['A'] = grades.count('A')\n",
    "grades_count['B'] = grades.count('B')\n",
    "grades_count['C'] = grades.count('C')\n",
    "grades_count['D'] = grades.count('D')\n",
    "grades_count['F'] = grades.count('F')"
   ]
  },
  {
   "cell_type": "code",
   "execution_count": 13,
   "id": "04fbb337",
   "metadata": {},
   "outputs": [
    {
     "name": "stdout",
     "output_type": "stream",
     "text": [
      "{'A': 3, 'B': 4, 'C': 4, 'D': 2, 'F': 2}\n"
     ]
    }
   ],
   "source": [
    "print(grades_count)"
   ]
  },
  {
   "cell_type": "code",
   "execution_count": 19,
   "id": "9b9326dd",
   "metadata": {},
   "outputs": [
    {
     "name": "stdout",
     "output_type": "stream",
     "text": [
      "Enter 15 student grades: B B B B B A A A A C C C C E E\n"
     ]
    }
   ],
   "source": [
    "# OR\n",
    "grades = input(\"Enter 15 student grades: \").split()"
   ]
  },
  {
   "cell_type": "code",
   "execution_count": 41,
   "id": "2d06b28f",
   "metadata": {},
   "outputs": [
    {
     "name": "stdout",
     "output_type": "stream",
     "text": [
      "Number of grade A = 4\n",
      "Number of grade B = 5\n",
      "Number of grade C = 4\n",
      "Number of grade E = 2\n"
     ]
    }
   ],
   "source": [
    "for grade in sorted(set(grades)):\n",
    "    print(f\"Number of grade {grade} = {grades.count(grade)}\")"
   ]
  },
  {
   "cell_type": "markdown",
   "id": "4777ccf6",
   "metadata": {},
   "source": [
    "#### Task 2\n",
    "A new film was released at the cinema. There is 1 hall in the cinema and it can fit 200 spectators. Every day, a different number of tickets were sold for a new film in the first and second weeks of its running. When did the cinema sell more tickets – during the first or the second week? What was the revenue of the cinema in the first two weeks of the movie's distribution, if the price of one ticket is \\$M?"
   ]
  },
  {
   "cell_type": "code",
   "execution_count": 46,
   "id": "3931bf39",
   "metadata": {},
   "outputs": [],
   "source": [
    "first_week = [random.randint(50, 200) for i in range(7)]\n",
    "second_week = [random.randint(50, 200) for i in range(7)]"
   ]
  },
  {
   "cell_type": "code",
   "execution_count": 51,
   "id": "16f7336b",
   "metadata": {},
   "outputs": [
    {
     "name": "stdout",
     "output_type": "stream",
     "text": [
      "First week tickets sold: 1085\n",
      "Second week tickets sold: 748\n",
      "In the first week, the cinema sold 337 more tickets than in the second one.\n"
     ]
    }
   ],
   "source": [
    "first_week_sum = sum(first_week)\n",
    "second_week_sum = sum(second_week)\n",
    "\n",
    "print(\"First week tickets sold: {}\".format(first_week_sum))\n",
    "print(\"Second week tickets sold: {}\".format(second_week_sum))\n",
    "\n",
    "if first_week_sum > second_week_sum:\n",
    "    print(\"In the first week, the cinema sold {} more tickets than in the second one.\".format(first_week_sum-second_week_sum))\n",
    "elif first_week_sum < second_week_sum:\n",
    "    print(\"In the second week, the cinema sold {} more tickets than in the first one.\".format(second_week_sum-first_week_sum))\n",
    "else:\n",
    "    print(\"The cinema sold the same number of tickets in the first week as in the second week.\")"
   ]
  },
  {
   "cell_type": "code",
   "execution_count": 52,
   "id": "02d13ca6",
   "metadata": {},
   "outputs": [
    {
     "data": {
      "text/plain": [
       "8"
      ]
     },
     "execution_count": 52,
     "metadata": {},
     "output_type": "execute_result"
    }
   ],
   "source": [
    "l = [10, 24, 5, 7, 13, 120, 35, 72, 3]\n",
    "l.index(3)"
   ]
  },
  {
   "cell_type": "markdown",
   "id": "e2fa72e0",
   "metadata": {},
   "source": [
    "# Binary Search"
   ]
  },
  {
   "cell_type": "code",
   "execution_count": 53,
   "id": "47fa0fc8",
   "metadata": {},
   "outputs": [
    {
     "name": "stdout",
     "output_type": "stream",
     "text": [
      "The list of the library card numbers are [108, 123, 124, 235, 285, 379, 456, 476, 756, 998]\n",
      "Enter the library card number: 998\n",
      "The reader 998 is registered in the library and took book(s).\n"
     ]
    }
   ],
   "source": [
    "def binary_search(arr, left, right, elem):\n",
    "    while left <= right:\n",
    "        mid_index = (right + left) // 2\n",
    "        if arr[mid_index] == elem:\n",
    "            return arr[mid_index] \n",
    "        elif arr[mid_index] < elem:\n",
    "            left = mid_index+1\n",
    "        else:\n",
    "            right = mid_index-1\n",
    "    return None\n",
    " \n",
    "library_num = [108, 123, 124, 235, 285, 379, 456, 476, 756, 998]\n",
    "print(\"The list of the library card numbers are\", library_num)\n",
    "required_num = int(input(\"Enter the library card number: \"))\n",
    "if required_num > 0:\n",
    "    amount = binary_search(library_num, 0, len(library_num)-1, required_num)\n",
    "    if amount is None:\n",
    "        print(\"\\nThe reader is not registered in the library.\")\n",
    "    else:\n",
    "        print(\"The reader\", amount, \"is registered in the library and took book(s).\")\n",
    "else:    \n",
    "    print(\"You entered an invalid customer library card number.\")"
   ]
  },
  {
   "cell_type": "markdown",
   "id": "410544b3",
   "metadata": {},
   "source": [
    "# Bubble Sort"
   ]
  },
  {
   "cell_type": "code",
   "execution_count": 54,
   "id": "a1628bde",
   "metadata": {},
   "outputs": [
    {
     "name": "stdout",
     "output_type": "stream",
     "text": [
      "Initial array: [124, 235, 456, 123, 756, 476, 285, 998, 379, 108]\n",
      "The number of permutations is 20\n",
      "Sorted array: [108, 123, 124, 235, 285, 379, 456, 476, 756, 998]\n"
     ]
    }
   ],
   "source": [
    "def bubble_sort(arr):\n",
    "    count = 0\n",
    "    need_iteration = 'true'\n",
    "    while need_iteration == 'true':\n",
    "        need_iteration = 'false'\n",
    "        for i in range(len(arr)):\n",
    "            for j in range(0, len(arr)-i-1):\n",
    "                if arr[j] > arr[j+1]:\n",
    "                    arr[j], arr[j+1] = arr[j+1], arr[j]\n",
    "                    need_iteration = 'true'\n",
    "                    count +=1\n",
    "    print(\"The number of permutations is\", count)\n",
    " \n",
    "libraryNum = [124,235,456,123,756,476,285,998,379,108] \n",
    "print(\"Initial array:\", libraryNum) \n",
    "bubble_sort(libraryNum) \n",
    "print (\"Sorted array:\", libraryNum)"
   ]
  },
  {
   "cell_type": "markdown",
   "id": "39a540b0",
   "metadata": {},
   "source": [
    "# Insertion Sort"
   ]
  },
  {
   "cell_type": "code",
   "execution_count": 56,
   "id": "b1bc2d89",
   "metadata": {},
   "outputs": [
    {
     "name": "stdout",
     "output_type": "stream",
     "text": [
      "Initial array: [124, 235, 456, 123, 756, 476, 285, 998, 379, 108]\n",
      "The number of permutations is 20\n",
      "Sorted array: [108, 123, 124, 235, 285, 379, 456, 476, 756, 998]\n"
     ]
    }
   ],
   "source": [
    "def insertion_sort(arr):\n",
    "    count = 0\n",
    "    for i in range(1, len(arr)):\n",
    "        key_item = arr[i]\n",
    "        j = i-1\n",
    "        while j >= 0 and key_item < arr[j]:\n",
    "            arr[j + 1] = arr[j]\n",
    "            j -= 1\n",
    "            count +=1\n",
    "        arr[j + 1] = key_item\n",
    "    print(\"The number of permutations is\", count)\n",
    " \n",
    "library_num = [124,235,456,123,756,476,285,998,379,108]\n",
    "print(\"Initial array:\", library_num)\n",
    "insertion_sort(library_num)\n",
    "print (\"Sorted array:\", library_num)"
   ]
  },
  {
   "cell_type": "markdown",
   "id": "a3b57a54",
   "metadata": {},
   "source": [
    "# Selection sort"
   ]
  },
  {
   "cell_type": "code",
   "execution_count": 61,
   "id": "83a10541",
   "metadata": {},
   "outputs": [
    {
     "name": "stdout",
     "output_type": "stream",
     "text": [
      "Initial array: [124, 235, 456, 123, 756, 476, 285, 998, 379, 108]\n",
      "Sorted array: [108, 123, 124, 235, 285, 379, 456, 476, 756, 998]\n"
     ]
    }
   ],
   "source": [
    "def selection_sort(arr):    \n",
    "    for i in range(len(arr)):\n",
    "        min = i\n",
    "        for j in range(i + 1, len(arr)):\n",
    "            if arr[min] > arr[j]:\n",
    "                min = j\n",
    "        arr[i], arr[min] = arr[min], arr[i]\n",
    " \n",
    "library_num = [124,235,456,123,756,476,285,998,379,108]\n",
    "print(\"Initial array:\", library_num)\n",
    "selection_sort(library_num)\n",
    "print (\"Sorted array:\", library_num)"
   ]
  },
  {
   "cell_type": "markdown",
   "id": "60ff203e",
   "metadata": {},
   "source": [
    "# Heapsort"
   ]
  },
  {
   "cell_type": "code",
   "execution_count": 60,
   "id": "220d4323",
   "metadata": {},
   "outputs": [
    {
     "name": "stdout",
     "output_type": "stream",
     "text": [
      "Initial array: [124, 235, 456, 123, 756, 476, 285, 998, 379, 108]\n",
      "Sorted array: [108, 123, 124, 235, 285, 379, 456, 476, 756, 998]\n"
     ]
    }
   ],
   "source": [
    "def heapify(arr, n, i):\n",
    "      largest = i\n",
    "      left = 2 * i + 1\n",
    "      right = 2 * i + 2\n",
    " \n",
    "      if left < n and arr[i] < arr[left]:\n",
    "          largest = left\n",
    " \n",
    "      if right < n and arr[largest] < arr[right]:\n",
    "          largest = right\n",
    " \n",
    "      if largest != i:\n",
    "          arr[i], arr[largest] = arr[largest], arr[i]\n",
    "          heapify(arr, n, largest)\n",
    " \n",
    "def heap_sort(arr):    \n",
    "    for i in range(len(arr)//2,-1,-1):\n",
    "        heapify(arr, len(arr), i)\n",
    "    for i in range(len(arr)-1, 0, -1):\n",
    "        arr[i], arr[0] = arr[0], arr[i]\n",
    "        heapify(arr, i, 0)\n",
    " \n",
    "library_num = [124,235,456,123,756,476,285,998,379,108]\n",
    "print(\"Initial array:\", library_num)\n",
    "heap_sort(library_num)\n",
    "print (\"Sorted array:\", library_num)"
   ]
  },
  {
   "cell_type": "markdown",
   "id": "443517c7",
   "metadata": {},
   "source": [
    "# Merge Sort"
   ]
  },
  {
   "cell_type": "code",
   "execution_count": 59,
   "id": "22cec0d1",
   "metadata": {},
   "outputs": [
    {
     "name": "stdout",
     "output_type": "stream",
     "text": [
      "Initial array: [124, 235, 456, 123, 756, 476, 285, 998, 379, 108]\n",
      "Sorted array: [108, 123, 124, 235, 285, 379, 456, 476, 756, 998]\n"
     ]
    }
   ],
   "source": [
    "def merge_sort(arr):\n",
    "    if len(arr) > 1:\n",
    "        mean = len(arr)//2\n",
    "        left_arr = arr[:mean]\n",
    "        right_arr = arr[mean:]\n",
    "        merge_sort(left_arr)\n",
    "        merge_sort(right_arr)\n",
    " \n",
    "        i = j = k = 0\n",
    "        while i < len(left_arr) and j < len(right_arr):\n",
    "            if left_arr[i] < right_arr[j]:\n",
    "                arr[k] = left_arr[i]\n",
    "                i += 1\n",
    "            else:\n",
    "                arr[k] = right_arr[j]\n",
    "                j += 1\n",
    "            k += 1\n",
    "        while i < len(left_arr):\n",
    "            arr[k] = left_arr[i]\n",
    "            i += 1\n",
    "            k += 1\n",
    " \n",
    "        while j < len(right_arr):\n",
    "            arr[k] = right_arr[j]\n",
    "            j += 1\n",
    "            k += 1    \n",
    " \n",
    "library_num = [124,235,456,123,756,476,285,998,379,108]\n",
    "print(\"Initial array:\", library_num)\n",
    "merge_sort(library_num)\n",
    "print (\"Sorted array:\", library_num)"
   ]
  },
  {
   "cell_type": "markdown",
   "id": "c03e6ee6",
   "metadata": {},
   "source": [
    "# Quicksort sort"
   ]
  },
  {
   "cell_type": "code",
   "execution_count": 58,
   "id": "6f978207",
   "metadata": {},
   "outputs": [
    {
     "name": "stdout",
     "output_type": "stream",
     "text": [
      "Initial array: [124, 235, 456, 123, 756, 476, 285, 998, 379, 108]\n",
      "Sorted array: [108, 123, 124, 235, 285, 379, 456, 476, 756, 998]\n"
     ]
    }
   ],
   "source": [
    "def partition(arr,left,right): \n",
    "    i = ( left-1 )      # index of smaller element \n",
    "    key = arr[right]    # a key element \n",
    " \n",
    "    for j in range(left, right): \n",
    "        if   arr[j] < key:  \n",
    "            i += 1 \n",
    "            arr[i],arr[j] = arr[j],arr[i]  \n",
    "    arr[i + 1],arr[right] = arr[right],arr[i + 1] \n",
    "    return ( i+1 )\n",
    " \n",
    "def quick_sort(arr,left,right):\n",
    "    if left < right:\n",
    "        key_index = partition(arr,left,right)\n",
    "        quick_sort(arr,left,key_index - 1)\n",
    "        quick_sort(arr,key_index + 1, right)        \n",
    " \n",
    "library_num = [124,235,456,123,756,476,285,998,379,108]\n",
    "print(\"Initial array:\", library_num)\n",
    "quick_sort(library_num, 0, len(library_num) - 1)\n",
    "print (\"Sorted array:\", library_num)"
   ]
  },
  {
   "cell_type": "markdown",
   "id": "9f9f3bd9",
   "metadata": {},
   "source": [
    "# LSD Radix Sort"
   ]
  },
  {
   "cell_type": "code",
   "execution_count": 57,
   "id": "7c874354",
   "metadata": {},
   "outputs": [
    {
     "name": "stdout",
     "output_type": "stream",
     "text": [
      "Initial array: [124, 235, 456, 123, 756, 476, 285, 998, 379, 108]\n",
      "Sorted array: [108, 123, 124, 235, 285, 379, 456, 476, 756, 998]\n"
     ]
    }
   ],
   "source": [
    "def counting_sort(arr, place):\n",
    "    size = len(arr)\n",
    "    output = [0] * size\n",
    "    count = [0] * 10\n",
    " \n",
    "    # Determine count of elements\n",
    "    for i in range(0, size):\n",
    "        index = arr[i] // place\n",
    "        count[index % 10] += 1\n",
    " \n",
    "    # Determine cummulative count\n",
    "    for i in range(1, 10):\n",
    "        count[i] += count[i - 1]\n",
    " \n",
    "    # Place the elements in the correct place\n",
    "    i = size - 1\n",
    "    while i >= 0:\n",
    "        index = arr[i] // place\n",
    "        output[count[index % 10] - 1] = arr[i]\n",
    "        count[index % 10] -= 1\n",
    "        i -= 1\n",
    " \n",
    "    for i in range(0, size):\n",
    "        arr[i] = output[i]\n",
    " \n",
    "def radix_sort(arr):\n",
    "    max_item = max(arr)\n",
    "    place = 1\n",
    "    while max_item // place > 0:\n",
    "        counting_sort(arr, place)\n",
    "        place *= 10\n",
    " \n",
    "library_num = [124,235,456,123,756,476,285,998,379,108]\n",
    "print(\"Initial array:\", library_num)\n",
    "radix_sort(library_num)\n",
    "print (\"Sorted array:\", library_num)"
   ]
  },
  {
   "cell_type": "markdown",
   "id": "19c28dca",
   "metadata": {},
   "source": [
    "# Different Sorts - Tasks"
   ]
  },
  {
   "cell_type": "markdown",
   "id": "80943da6",
   "metadata": {},
   "source": [
    "#### Task 1\n",
    "N people are taking part in the donut eating competition. To win, you need to eat as many donuts as possible in 10 minutes. Display on the screen the result of 3 winners and the worst result. (Hint: The program allocates dynamic memory for an array of n elements and requests the array from a keyboard. Try sorting the data using different methods. The case when several participants ate the same number of donuts should not be considered)."
   ]
  },
  {
   "cell_type": "code",
   "execution_count": 62,
   "id": "0275c216",
   "metadata": {},
   "outputs": [
    {
     "name": "stdout",
     "output_type": "stream",
     "text": [
      "Enter the number of bidders: 10\n",
      "Enter the number of donuts eaten by participant 1: 30\n",
      "Enter the number of donuts eaten by participant 2: 33\n",
      "Enter the number of donuts eaten by participant 3: 25\n",
      "Enter the number of donuts eaten by participant 4: 22\n",
      "Enter the number of donuts eaten by participant 5: 27\n",
      "Enter the number of donuts eaten by participant 6: 42\n",
      "Enter the number of donuts eaten by participant 7: 31\n",
      "Enter the number of donuts eaten by participant 8: 31\n",
      "Enter the number of donuts eaten by participant 9: 38\n",
      "Enter the number of donuts eaten by participant 10: 20\n",
      "Enter sort type:\n",
      "1 - Outputting the result using Bubble sort\n",
      "2 - Outputting the result using Sort by selection method\n",
      "3 - Outputting the result using Insert sort\n",
      "1\n",
      "First place went to the participant who ate 42 donuts\n",
      "Second place went to the participant who ate 38 donuts\n",
      "Third place went to the participant who ate 33 donuts\n",
      "The worst result corresponds to 20 donuts\n"
     ]
    }
   ],
   "source": [
    "def bubble_sort(nums):\n",
    "    swapped = True\n",
    "    while swapped:\n",
    "        swapped = False\n",
    "        for i in range(len(nums) - 1):\n",
    "            if nums[i] > nums[i + 1]:\n",
    "                nums[i], nums[i + 1] = nums[i + 1], nums[i]\n",
    "                swapped = True\n",
    " \n",
    " \n",
    "def selection_sort(nums):\n",
    "    for i in range(len(nums)):\n",
    "        lowest_value_index = i\n",
    "        for j in range(i + 1, len(nums)):\n",
    "            if nums[j] < nums[lowest_value_index]:\n",
    "                lowest_value_index = j\n",
    "        nums[i], nums[lowest_value_index] = nums[lowest_value_index], nums[i]\n",
    " \n",
    " \n",
    "def insertion_sort(nums):\n",
    "    for i in range(1, len(nums)):\n",
    "        item_to_insert = nums[i]\n",
    "        j = i - 1\n",
    "        while j >= 0 and nums[j] > item_to_insert:\n",
    "            nums[j + 1] = nums[j]\n",
    "            j -= 1\n",
    "        nums[j + 1] = item_to_insert\n",
    " \n",
    " \n",
    "bidders_num = int(input(\"Enter the number of bidders: \"))\n",
    "results = []\n",
    "for n in range(bidders_num):\n",
    "    results.append(int(input(\"Enter the number of donuts eaten by participant {}: \".format(n+1))))\n",
    " \n",
    "sort_types = {\n",
    "    1: bubble_sort,\n",
    "    2: selection_sort,\n",
    "    3: insertion_sort,\n",
    "}\n",
    " \n",
    "results = list(set(results))\n",
    " \n",
    "sort_type = int(input(\"Enter sort type:\\n\"\n",
    "                      \"1 - Outputting the result using Bubble sort\\n\"\n",
    "                      \"2 - Outputting the result using Sort by selection method\\n\"\n",
    "                      \"3 - Outputting the result using Insert sort\\n\"))\n",
    " \n",
    "sort_types[sort_type](results)\n",
    "if len(results) > 2:\n",
    "    print(\"First place went to the participant who ate {} donuts\".format(results[-1]))\n",
    "    print(\"Second place went to the participant who ate {} donuts\".format(results[-2]))\n",
    "    print(\"Third place went to the participant who ate {} donuts\".format(results[-3]))\n",
    "    print(\"The worst result corresponds to {} donuts\".format(results[0]))\n",
    "else:\n",
    "    print(\"You've entered less than 3 unique results\")"
   ]
  },
  {
   "cell_type": "markdown",
   "id": "0ec6caf1",
   "metadata": {},
   "source": [
    "#### Task 2\n",
    "To reverse a word, push the given word to stack (letter by letter) and then, pop letters from the stack."
   ]
  },
  {
   "cell_type": "code",
   "execution_count": 63,
   "id": "a491491d",
   "metadata": {},
   "outputs": [
    {
     "name": "stdout",
     "output_type": "stream",
     "text": [
      "Please enter the word or string: ting-a-ling\n",
      "Reversed: gnil-a-gnit\n"
     ]
    }
   ],
   "source": [
    "word = input(\"Please enter the word or string: \")\n",
    "stack = []\n",
    "for letter in word:\n",
    "    stack.append(letter)\n",
    "reversed_word = ''\n",
    "while stack:\n",
    "    reversed_word += stack.pop()\n",
    "print(\"Reversed: {}\".format(reversed_word))"
   ]
  },
  {
   "cell_type": "code",
   "execution_count": 81,
   "id": "c8d15ffe",
   "metadata": {},
   "outputs": [
    {
     "name": "stdout",
     "output_type": "stream",
     "text": [
      "['t', 'i', 'n', 'g', '-', 'a', '-', 'l', 'i', 'n', 'g']\n",
      "gnil-a-gnit\n"
     ]
    }
   ],
   "source": [
    "w = 'ting-a-ling'\n",
    "l = [le for le in w]\n",
    "print(l)\n",
    "r_w = ''\n",
    "while l:\n",
    "    r_w += l.pop()\n",
    "print(r_w)"
   ]
  },
  {
   "cell_type": "markdown",
   "id": "b4ee1bdb",
   "metadata": {},
   "source": [
    "# Files"
   ]
  },
  {
   "cell_type": "markdown",
   "id": "e25e89be",
   "metadata": {},
   "source": [
    "The pizza delivery service processes its orders on the first come, first served basis. After a client has paid for his/her order, he/she is added to the online waiting list. After the pizza is ready, the information is passed to a courier, saved to a file, and removed from the waiting list. Display the number of customers who are currently waiting for an order. (Hint: to implement the task in C, use the structure that describes the concept of an order, with the properties: visitor's name, delivery address, order, total cost. An order is written from the waiting list to the file when it is deleted).\n",
    "\n",
    "Expected functionality:\n",
    "\n",
    "1. Enter the info (customer's name, address, order, total cost).\n",
    "2. Write to file – delete the order data.\n",
    "3. Display the number of customers waiting for the order (customer's name, address, total cost)."
   ]
  },
  {
   "cell_type": "code",
   "execution_count": 5,
   "id": "bd48fda3",
   "metadata": {},
   "outputs": [],
   "source": [
    "import collections"
   ]
  },
  {
   "cell_type": "code",
   "execution_count": 9,
   "id": "1c96b2ea",
   "metadata": {},
   "outputs": [
    {
     "name": "stdout",
     "output_type": "stream",
     "text": [
      "What do you want do?\n",
      "1) Add order to the queue\n",
      "2) Delete order from the queue\n",
      "3) Count orders \n",
      "4) Output on display\n",
      "0) Exit the program\n",
      "1\n",
      "Enter the customer's name: Alex\n",
      "Enter the customer's address: 357 Backstreer av\n",
      "Enter the order\n",
      "\n",
      "Enter the name of the pizza:\n",
      "Pepperoni\n",
      "Enter the cost of the pizza:\n",
      "7.5\n",
      "Enter the quantity:\n",
      "3\n",
      "Finish order? (1 - yes; 0 - no)\n",
      "0\n",
      "Enter the order\n",
      "\n",
      "Enter the name of the pizza:\n",
      "4 seasons\n",
      "Enter the cost of the pizza:\n",
      "4\n",
      "Enter the quantity:\n",
      "4\n",
      "Finish order? (1 - yes; 0 - no)\n",
      "1\n",
      "Total amount $38.5\n",
      "What do you want do?\n",
      "1) Add order to the queue\n",
      "2) Delete order from the queue\n",
      "3) Count orders \n",
      "4) Output on display\n",
      "0) Exit the program\n",
      "1\n",
      "Enter the customer's name: Kris\n",
      "Enter the customer's address: 775 Backstreet av\n",
      "Enter the order\n",
      "\n",
      "Enter the name of the pizza:\n",
      "Calsone\n",
      "Enter the cost of the pizza:\n",
      "6.5\n",
      "Enter the quantity:\n",
      "3\n",
      "Finish order? (1 - yes; 0 - no)\n",
      "0\n",
      "Enter the order\n",
      "\n",
      "Enter the name of the pizza:\n",
      "Calzone\n",
      "Enter the cost of the pizza:\n",
      "9\n",
      "Enter the quantity:\n",
      "1\n",
      "Finish order? (1 - yes; 0 - no)\n",
      "1\n",
      "Total amount $28.5\n",
      "What do you want do?\n",
      "1) Add order to the queue\n",
      "2) Delete order from the queue\n",
      "3) Count orders \n",
      "4) Output on display\n",
      "0) Exit the program\n",
      "3\n",
      "Number of clients: 2\n",
      "What do you want do?\n",
      "1) Add order to the queue\n",
      "2) Delete order from the queue\n",
      "3) Count orders \n",
      "4) Output on display\n",
      "0) Exit the program\n",
      "4\n",
      "2\n",
      "--------------------------------------------------------------------------------\n",
      "Order 1\n",
      "Name Alex\n",
      "Address 357 Backstreer av\n",
      "Total amount 38.5\n",
      "--------------------------------------------------------------------------------\n",
      "--------------------------------------------------------------------------------\n",
      "Order 2\n",
      "Name Kris\n",
      "Address 775 Backstreet av\n",
      "Total amount 28.5\n",
      "--------------------------------------------------------------------------------\n",
      "What do you want do?\n",
      "1) Add order to the queue\n",
      "2) Delete order from the queue\n",
      "3) Count orders \n",
      "4) Output on display\n",
      "0) Exit the program\n",
      "2\n",
      "What do you want do?\n",
      "1) Add order to the queue\n",
      "2) Delete order from the queue\n",
      "3) Count orders \n",
      "4) Output on display\n",
      "0) Exit the program\n",
      "3\n",
      "Number of clients: 1\n",
      "What do you want do?\n",
      "1) Add order to the queue\n",
      "2) Delete order from the queue\n",
      "3) Count orders \n",
      "4) Output on display\n",
      "0) Exit the program\n",
      "2\n",
      "What do you want do?\n",
      "1) Add order to the queue\n",
      "2) Delete order from the queue\n",
      "3) Count orders \n",
      "4) Output on display\n",
      "0) Exit the program\n",
      "3\n",
      "Number of clients: 0\n",
      "What do you want do?\n",
      "1) Add order to the queue\n",
      "2) Delete order from the queue\n",
      "3) Count orders \n",
      "4) Output on display\n",
      "0) Exit the program\n",
      "0\n"
     ]
    }
   ],
   "source": [
    "def user_menu():\n",
    "    return int(input(\"What do you want do?\\n\"\n",
    "                     \"1) Add order to the queue\\n\"\n",
    "                     \"2) Delete order from the queue\\n\"\n",
    "                     \"3) Count orders \\n\"\n",
    "                     \"4) Output on display\\n\"\n",
    "                     \"0) Exit the program\\n\"))\n",
    "\n",
    "def add_order(queue):\n",
    "    order_data = {}\n",
    "    order_data['name'] = input(\"Enter the customer's name: \")\n",
    "    order_data['address'] = input(\"Enter the customer's address: \")\n",
    "    order_data['order'] = []\n",
    "    total_amount = 0\n",
    "    while True:\n",
    "        print('Enter the order')\n",
    "        pizza_data = {}\n",
    "        pizza_data['name'] = input('Enter the name of the pizza:\\n')\n",
    "        pizza_data['cost'] = float(input('Enter the cost of the pizza:\\n'))\n",
    "        pizza_data['quantity'] = int(input('Enter the quantity:\\n'))\n",
    "        total_amount += pizza_data['cost'] * pizza_data['quantity']\n",
    "        order_data['order'].append(pizza_data)\n",
    "        if int(input(\"Finish order? (1 - yes; 0 - no)\\n\")): \n",
    "            break\n",
    "    order_data['amount'] = total_amount\n",
    "    print(\"Total amount ${}\".format(total_amount))\n",
    "    queue.append(order_data)\n",
    "    \n",
    "def delete_order(queue):\n",
    "    order = queue.popleft()\n",
    "    with open(\"orders.txt\", \"a\") as f:\n",
    "        f.write('-'*80 + '\\n')\n",
    "        f.write('Name {} | Address {} | Total amount {}\\n'.format(\n",
    "                order['name'],\n",
    "                order['address'], \n",
    "                order['amount']))\n",
    "        f.write('-'*80 + '\\n')\n",
    "\n",
    "def count_orders(queue):\n",
    "    print(\"Number of clients: {}\".format(len(queue)))\n",
    "    \n",
    "def output_on_display(queue):\n",
    "    temp_queue = queue.copy()\n",
    "    counter = 0 \n",
    "    print(len(temp_queue))\n",
    "    while len(temp_queue):\n",
    "        order = temp_queue.popleft()\n",
    "        counter += 1\n",
    "        print('-'*80)\n",
    "        print(\"Order {}\".format(counter)) \n",
    "        print(\"Name {}\".format(order[\"name\"])) \n",
    "        print(\"Address {}\".format(order[\"address\"])) \n",
    "        print(\"Total amount {}\".format(order[\"amount\"])) \n",
    "        print('-'*80)\n",
    "\n",
    "MENU_ITEMS = { \n",
    "    1: add_order, \n",
    "    2: delete_order, \n",
    "    3: count_orders, \n",
    "    4: output_on_display, \n",
    "}\n",
    "\n",
    "orders_queue = collections.deque() \n",
    "while True: \n",
    "    choice = user_menu() \n",
    "    if not choice: \n",
    "        break \n",
    "    MENU_ITEMS[choice](orders_queue)"
   ]
  },
  {
   "cell_type": "markdown",
   "id": "f9ae28f8",
   "metadata": {},
   "source": [
    "# OOP"
   ]
  },
  {
   "cell_type": "code",
   "execution_count": 12,
   "id": "91e2740a",
   "metadata": {},
   "outputs": [
    {
     "name": "stdout",
     "output_type": "stream",
     "text": [
      "Information about the cafe:\n",
      "The purpose is organization of recreation. Address: London, Baker Street. Number of floors: 2 and wall material is brick\n",
      "Information about the shop:\n",
      "The purpose is organization of shopping. Address: London, Crawford street. Number of floors: 1 and wall material is brick\n"
     ]
    }
   ],
   "source": [
    "class Building:\n",
    "    wall_material = \"brick\"\n",
    " \n",
    "    def __init__(self, purpose, address, floors_number):\n",
    "        self.purpose = purpose\n",
    "        self.address = address\n",
    "        self.floors_number = floors_number\n",
    " \n",
    "    def __str__(self):\n",
    "        return f\"The purpose is {self.purpose}. Address: {self.address}. Number of floors: {self.floors_number} and wall material is {self.wall_material}\"\n",
    " \n",
    "cafe = Building(\"organization of recreation\", \"London, Baker Street\", 2)\n",
    "print(\"Information about the cafe:\")\n",
    "print(cafe)\n",
    "shop = Building(\"organization of shopping\", \"London, Crawford street\", 1)\n",
    "print(\"Information about the shop:\")\n",
    "print(shop)"
   ]
  },
  {
   "cell_type": "markdown",
   "id": "469da22b",
   "metadata": {},
   "source": [
    "# Inheritance. Composition, Aggregation, and Association"
   ]
  },
  {
   "cell_type": "code",
   "execution_count": 13,
   "id": "ab8e4614",
   "metadata": {},
   "outputs": [
    {
     "name": "stdout",
     "output_type": "stream",
     "text": [
      "Information about the first apartment: The address is 'Bronco St' 3050, walls Material is 'brick', height = 23 ft., furniture=[\n",
      "name = 'bed', cost = 150$\n",
      "name = 'cupboard', cost = 250$\n",
      "name = 'table', cost = 35$\n",
      "name = 'armchair', cost = 80$]\n",
      "Total furniture cost is 515$\n"
     ]
    }
   ],
   "source": [
    "class Wall:\n",
    "    def __init__(self, material, height):\n",
    "        self.material = material\n",
    "        self.height = height\n",
    " \n",
    " \n",
    "    def __str__(self):\n",
    "        return \"Material is '{}', height = {} ft.\".format(self.material,\n",
    "        self.height)\n",
    " \n",
    "class Furniture:\n",
    "    def __init__(self, name, cost):\n",
    "        self.name = name\n",
    "        self.cost = cost\n",
    " \n",
    " \n",
    "    def __str__(self):\n",
    "        return \"name = '{}', cost = {}$\".format(self.name, self.cost)\n",
    " \n",
    "class Apartment:\n",
    "    def __init__(self, street, apartment_no, material, height, furniture):\n",
    "        self.street = street\n",
    "        self.apartment_no = apartment_no\n",
    "        self.walls = Wall(material, height)\n",
    "        self.furniture = furniture\n",
    " \n",
    "    def __str__(self):\n",
    "        return \"The address is '{} St' {}, walls {}, furniture=[\\n{}]\".format(\n",
    "        self.street,\n",
    "        self.apartment_no,\n",
    "        self.walls,\n",
    "        '\\n'.join(str(element) for element in self.furniture),\n",
    "        )\n",
    " \n",
    "    def get_total_furniture_cost(self):\n",
    "        total_cost = 0\n",
    "        for element in self.furniture:\n",
    "            total_cost += element.cost\n",
    "        return total_cost\n",
    " \n",
    "if __name__ == \"__main__\":\n",
    "    furniture = [Furniture(\"bed\", 150), Furniture(\"cupboard\", 250),\n",
    "    Furniture(\"table\", 35), Furniture(\"armchair\", 80)]\n",
    "    flat1 = Apartment(\"Bronco\", 3050, \"brick\", 23, furniture)\n",
    "    print(\"Information about the first apartment:\", flat1)\n",
    "    print(\"Total furniture cost is {}$\".format( flat1.get_total_furniture_cost()))"
   ]
  },
  {
   "cell_type": "code",
   "execution_count": null,
   "id": "86c14fb2",
   "metadata": {},
   "outputs": [],
   "source": []
  }
 ],
 "metadata": {
  "kernelspec": {
   "display_name": "Python 3 (ipykernel)",
   "language": "python",
   "name": "python3"
  },
  "language_info": {
   "codemirror_mode": {
    "name": "ipython",
    "version": 3
   },
   "file_extension": ".py",
   "mimetype": "text/x-python",
   "name": "python",
   "nbconvert_exporter": "python",
   "pygments_lexer": "ipython3",
   "version": "3.9.12"
  }
 },
 "nbformat": 4,
 "nbformat_minor": 5
}
